{
 "cells": [
  {
   "cell_type": "code",
   "execution_count": 1,
   "id": "771c36df",
   "metadata": {},
   "outputs": [],
   "source": [
    "from websocket import create_connection\n",
    "from TradingviewData import TredingViewData,Interval\n",
    "request = TredingViewData()"
   ]
  },
  {
   "cell_type": "code",
   "execution_count": 2,
   "id": "85736c1c",
   "metadata": {},
   "outputs": [
    {
     "data": {
      "text/plain": [
       "Index(['symbol', 'open', 'high', 'low', 'close', 'volume'], dtype='object')"
      ]
     },
     "execution_count": 2,
     "metadata": {},
     "output_type": "execute_result"
    }
   ],
   "source": [
    "df1 = request.get_hist(symbol='RELIANCE',exchange='NSE',interval=Interval.min_15,n_bars=2000)\n",
    "df1.columns"
   ]
  },
  {
   "cell_type": "code",
   "execution_count": 3,
   "id": "88cc7ba6",
   "metadata": {},
   "outputs": [
    {
     "data": {
      "text/html": [
       "<div>\n",
       "<style scoped>\n",
       "    .dataframe tbody tr th:only-of-type {\n",
       "        vertical-align: middle;\n",
       "    }\n",
       "\n",
       "    .dataframe tbody tr th {\n",
       "        vertical-align: top;\n",
       "    }\n",
       "\n",
       "    .dataframe thead th {\n",
       "        text-align: right;\n",
       "    }\n",
       "</style>\n",
       "<table border=\"1\" class=\"dataframe\">\n",
       "  <thead>\n",
       "    <tr style=\"text-align: right;\">\n",
       "      <th></th>\n",
       "      <th>close</th>\n",
       "    </tr>\n",
       "    <tr>\n",
       "      <th>datetime</th>\n",
       "      <th></th>\n",
       "    </tr>\n",
       "  </thead>\n",
       "  <tbody>\n",
       "    <tr>\n",
       "      <th>2023-03-03 15:15:00</th>\n",
       "      <td>2383.1</td>\n",
       "    </tr>\n",
       "  </tbody>\n",
       "</table>\n",
       "</div>"
      ],
      "text/plain": [
       "                      close\n",
       "datetime                   \n",
       "2023-03-03 15:15:00  2383.1"
      ]
     },
     "execution_count": 3,
     "metadata": {},
     "output_type": "execute_result"
    }
   ],
   "source": [
    "df1.iloc[-1:,4:5]"
   ]
  },
  {
   "cell_type": "code",
   "execution_count": 4,
   "id": "f7fda4b7",
   "metadata": {},
   "outputs": [],
   "source": [
    "corr_matrix = df1.corr()"
   ]
  },
  {
   "cell_type": "code",
   "execution_count": 5,
   "id": "b8c2dc38",
   "metadata": {},
   "outputs": [
    {
     "data": {
      "text/plain": [
       "close     1.000000\n",
       "low       0.999586\n",
       "high      0.999573\n",
       "open      0.999098\n",
       "volume   -0.158234\n",
       "Name: close, dtype: float64"
      ]
     },
     "execution_count": 5,
     "metadata": {},
     "output_type": "execute_result"
    }
   ],
   "source": [
    "corr_matrix['close'].sort_values(ascending = False)"
   ]
  },
  {
   "cell_type": "code",
   "execution_count": 21,
   "id": "d443f60d",
   "metadata": {},
   "outputs": [
    {
     "data": {
      "text/html": [
       "<div>\n",
       "<style scoped>\n",
       "    .dataframe tbody tr th:only-of-type {\n",
       "        vertical-align: middle;\n",
       "    }\n",
       "\n",
       "    .dataframe tbody tr th {\n",
       "        vertical-align: top;\n",
       "    }\n",
       "\n",
       "    .dataframe thead th {\n",
       "        text-align: right;\n",
       "    }\n",
       "</style>\n",
       "<table border=\"1\" class=\"dataframe\">\n",
       "  <thead>\n",
       "    <tr style=\"text-align: right;\">\n",
       "      <th></th>\n",
       "      <th>Symbol</th>\n",
       "      <th>Series</th>\n",
       "      <th>Date</th>\n",
       "      <th>Prev Close</th>\n",
       "      <th>Open Price</th>\n",
       "      <th>High Price</th>\n",
       "      <th>Low Price</th>\n",
       "      <th>Last Price</th>\n",
       "      <th>Close Price</th>\n",
       "      <th>Average Price</th>\n",
       "      <th>Total Traded Quantity</th>\n",
       "      <th>Turnover</th>\n",
       "      <th>No. of Trades</th>\n",
       "      <th>Deliverable Qty</th>\n",
       "      <th>% Dly Qt to Traded Qty</th>\n",
       "      <th>Average of next day price</th>\n",
       "      <th>close-open</th>\n",
       "      <th>open price of next day</th>\n",
       "    </tr>\n",
       "  </thead>\n",
       "  <tbody>\n",
       "    <tr>\n",
       "      <th>0</th>\n",
       "      <td>ITC</td>\n",
       "      <td>EQ</td>\n",
       "      <td>3-Mar-22</td>\n",
       "      <td>215.30</td>\n",
       "      <td>216.05</td>\n",
       "      <td>220.20</td>\n",
       "      <td>216.00</td>\n",
       "      <td>219.35</td>\n",
       "      <td>219.40</td>\n",
       "      <td>218.52</td>\n",
       "      <td>28532668</td>\n",
       "      <td>6235043683</td>\n",
       "      <td>122600</td>\n",
       "      <td>18281302</td>\n",
       "      <td>64.07</td>\n",
       "      <td>222.66</td>\n",
       "      <td>7.80</td>\n",
       "      <td>217.7</td>\n",
       "    </tr>\n",
       "    <tr>\n",
       "      <th>1</th>\n",
       "      <td>ITC</td>\n",
       "      <td>EQ</td>\n",
       "      <td>4-Mar-22</td>\n",
       "      <td>219.40</td>\n",
       "      <td>217.70</td>\n",
       "      <td>227.40</td>\n",
       "      <td>217.00</td>\n",
       "      <td>225.00</td>\n",
       "      <td>225.50</td>\n",
       "      <td>222.66</td>\n",
       "      <td>66835736</td>\n",
       "      <td>14881564312</td>\n",
       "      <td>284871</td>\n",
       "      <td>40825247</td>\n",
       "      <td>61.08</td>\n",
       "      <td>223.87</td>\n",
       "      <td>2.95</td>\n",
       "      <td>222.0</td>\n",
       "    </tr>\n",
       "    <tr>\n",
       "      <th>2</th>\n",
       "      <td>ITC</td>\n",
       "      <td>EQ</td>\n",
       "      <td>7-Mar-22</td>\n",
       "      <td>225.50</td>\n",
       "      <td>222.00</td>\n",
       "      <td>227.00</td>\n",
       "      <td>220.10</td>\n",
       "      <td>225.95</td>\n",
       "      <td>224.95</td>\n",
       "      <td>223.87</td>\n",
       "      <td>45258669</td>\n",
       "      <td>10131981893</td>\n",
       "      <td>226272</td>\n",
       "      <td>26504909</td>\n",
       "      <td>58.56</td>\n",
       "      <td>226.27</td>\n",
       "      <td>3.00</td>\n",
       "      <td>223.9</td>\n",
       "    </tr>\n",
       "    <tr>\n",
       "      <th>3</th>\n",
       "      <td>ITC</td>\n",
       "      <td>EQ</td>\n",
       "      <td>8-Mar-22</td>\n",
       "      <td>224.95</td>\n",
       "      <td>223.90</td>\n",
       "      <td>228.45</td>\n",
       "      <td>223.75</td>\n",
       "      <td>226.80</td>\n",
       "      <td>226.90</td>\n",
       "      <td>226.27</td>\n",
       "      <td>36036336</td>\n",
       "      <td>8154008012</td>\n",
       "      <td>198973</td>\n",
       "      <td>23514703</td>\n",
       "      <td>65.25</td>\n",
       "      <td>228.80</td>\n",
       "      <td>1.55</td>\n",
       "      <td>227.7</td>\n",
       "    </tr>\n",
       "    <tr>\n",
       "      <th>4</th>\n",
       "      <td>ITC</td>\n",
       "      <td>EQ</td>\n",
       "      <td>9-Mar-22</td>\n",
       "      <td>226.90</td>\n",
       "      <td>227.70</td>\n",
       "      <td>231.40</td>\n",
       "      <td>226.10</td>\n",
       "      <td>229.00</td>\n",
       "      <td>229.25</td>\n",
       "      <td>228.80</td>\n",
       "      <td>42294906</td>\n",
       "      <td>9677136455</td>\n",
       "      <td>168447</td>\n",
       "      <td>29264232</td>\n",
       "      <td>69.19</td>\n",
       "      <td>230.14</td>\n",
       "      <td>1.00</td>\n",
       "      <td>231.0</td>\n",
       "    </tr>\n",
       "  </tbody>\n",
       "</table>\n",
       "</div>"
      ],
      "text/plain": [
       "  Symbol Series      Date  Prev Close  Open Price  High Price  Low Price  \\\n",
       "0    ITC     EQ  3-Mar-22      215.30      216.05      220.20     216.00   \n",
       "1    ITC     EQ  4-Mar-22      219.40      217.70      227.40     217.00   \n",
       "2    ITC     EQ  7-Mar-22      225.50      222.00      227.00     220.10   \n",
       "3    ITC     EQ  8-Mar-22      224.95      223.90      228.45     223.75   \n",
       "4    ITC     EQ  9-Mar-22      226.90      227.70      231.40     226.10   \n",
       "\n",
       "   Last Price  Close Price  Average Price  Total Traded Quantity     Turnover  \\\n",
       "0      219.35       219.40         218.52               28532668   6235043683   \n",
       "1      225.00       225.50         222.66               66835736  14881564312   \n",
       "2      225.95       224.95         223.87               45258669  10131981893   \n",
       "3      226.80       226.90         226.27               36036336   8154008012   \n",
       "4      229.00       229.25         228.80               42294906   9677136455   \n",
       "\n",
       "   No. of Trades  Deliverable Qty  % Dly Qt to Traded Qty  \\\n",
       "0         122600         18281302                   64.07   \n",
       "1         284871         40825247                   61.08   \n",
       "2         226272         26504909                   58.56   \n",
       "3         198973         23514703                   65.25   \n",
       "4         168447         29264232                   69.19   \n",
       "\n",
       "   Average of next day price  close-open  open price of next day  \n",
       "0                     222.66        7.80                   217.7  \n",
       "1                     223.87        2.95                   222.0  \n",
       "2                     226.27        3.00                   223.9  \n",
       "3                     228.80        1.55                   227.7  \n",
       "4                     230.14        1.00                   231.0  "
      ]
     },
     "execution_count": 21,
     "metadata": {},
     "output_type": "execute_result"
    }
   ],
   "source": [
    "import pandas as pd\n",
    "df = pd.read_csv('ITC.csv')\n",
    "df.head()"
   ]
  },
  {
   "cell_type": "code",
   "execution_count": 22,
   "id": "e0c8321f",
   "metadata": {},
   "outputs": [],
   "source": [
    "corr_matrix = df.corr()"
   ]
  },
  {
   "cell_type": "code",
   "execution_count": 24,
   "id": "2c25186e",
   "metadata": {},
   "outputs": [
    {
     "data": {
      "text/plain": [
       "open price of next day       1.000000\n",
       "Close Price                  0.999298\n",
       "Last Price                   0.999297\n",
       "Average Price                0.998792\n",
       "High Price                   0.998270\n",
       "Average of next day price    0.997412\n",
       "Low Price                    0.996518\n",
       "Open Price                   0.995253\n",
       "Prev Close                   0.995026\n",
       "% Dly Qt to Traded Qty       0.194903\n",
       "No. of Trades               -0.036758\n",
       "Turnover                    -0.145461\n",
       "close-open                  -0.145708\n",
       "Total Traded Quantity       -0.389504\n",
       "Deliverable Qty             -0.398821\n",
       "Name: open price of next day, dtype: float64"
      ]
     },
     "execution_count": 24,
     "metadata": {},
     "output_type": "execute_result"
    }
   ],
   "source": [
    "corr_matrix['open price of next day'].sort_values(ascending = False)"
   ]
  },
  {
   "cell_type": "code",
   "execution_count": null,
   "id": "eb72ba4c",
   "metadata": {},
   "outputs": [],
   "source": []
  }
 ],
 "metadata": {
  "kernelspec": {
   "display_name": "Python 3 (ipykernel)",
   "language": "python",
   "name": "python3"
  },
  "language_info": {
   "codemirror_mode": {
    "name": "ipython",
    "version": 3
   },
   "file_extension": ".py",
   "mimetype": "text/x-python",
   "name": "python",
   "nbconvert_exporter": "python",
   "pygments_lexer": "ipython3",
   "version": "3.9.12"
  }
 },
 "nbformat": 4,
 "nbformat_minor": 5
}
