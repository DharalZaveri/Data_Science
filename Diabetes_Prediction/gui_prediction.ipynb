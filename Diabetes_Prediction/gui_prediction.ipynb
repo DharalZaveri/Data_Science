{
 "cells": [
  {
   "cell_type": "code",
   "execution_count": null,
   "id": "c6032225",
   "metadata": {},
   "outputs": [
    {
     "name": "stderr",
     "output_type": "stream",
     "text": [
      "C:\\Users\\Meet Zaveri\\AppData\\Local\\Programs\\Python\\Python310\\lib\\site-packages\\sklearn\\base.py:409: UserWarning: X does not have valid feature names, but LogisticRegression was fitted with feature names\n",
      "  warnings.warn(\n",
      "C:\\Users\\Meet Zaveri\\AppData\\Local\\Programs\\Python\\Python310\\lib\\site-packages\\sklearn\\base.py:409: UserWarning: X does not have valid feature names, but LogisticRegression was fitted with feature names\n",
      "  warnings.warn(\n"
     ]
    }
   ],
   "source": [
    "import tkinter as tk\n",
    "import joblib\n",
    "\n",
    "# Load the trained machine learning model\n",
    "model = joblib.load('diabetes_model.joblib')\n",
    "\n",
    "# Define a function to handle the button click event\n",
    "def predict_diabetes():\n",
    "    # Get the input values from the GUI\n",
    "    glucose = float(glucose_entry.get())\n",
    "    bmi = float(bmi_entry.get())\n",
    "    age = float(age_entry.get())\n",
    "    blood_pressure = float(blood_pressure_entry.get())\n",
    "\n",
    "    # Use the trained model to make a prediction\n",
    "    prediction = model.predict([[glucose, bmi, age, blood_pressure]])\n",
    "\n",
    "    # Update the output label with the prediction\n",
    "    if prediction == 0:\n",
    "        output_label.config(text='You have a chance of not having diabetes. \\n')\n",
    "\n",
    "    else:\n",
    "        output_label.config(text='You have a chance of having diabetes. \\n')\n",
    "\n",
    "# Create the main window\n",
    "root = tk.Tk()\n",
    "root.title('Diabetes Prediction System')\n",
    "\n",
    "# Create the input labels and entry fields\n",
    "glucose_label = tk.Label(root, text='Glucose:')\n",
    "glucose_label.grid(row=0, column=0)\n",
    "glucose_entry = tk.Entry(root)\n",
    "glucose_entry.grid(row=0, column=1)\n",
    "\n",
    "bmi_label = tk.Label(root, text='BMI:')\n",
    "bmi_label.grid(row=2, column=0)\n",
    "bmi_entry = tk.Entry(root)\n",
    "bmi_entry.grid(row=2, column=1)\n",
    "\n",
    "age_label = tk.Label(root, text='Age:')\n",
    "age_label.grid(row=3, column=0)\n",
    "age_entry = tk.Entry(root)\n",
    "age_entry.grid(row=3, column=1)\n",
    "\n",
    "blood_pressure_label = tk.Label(root, text='Average Blood Pressure:')\n",
    "blood_pressure_label.grid(row=4, column=0)\n",
    "blood_pressure_entry = tk.Entry(root)\n",
    "blood_pressure_entry.grid(row=4, column=1)\n",
    "\n",
    "# Create the button to trigger the prediction\n",
    "predict_button = tk.Button(root, text='Predict', command=predict_diabetes)\n",
    "predict_button.grid(row=5, column=0)\n",
    "\n",
    "# Create the output label\n",
    "output_label = tk.Label(root, text='')\n",
    "output_label.grid(row=6, column=1)\n",
    "\n",
    "# Start the GUI event loop\n",
    "root.mainloop()\n"
   ]
  },
  {
   "cell_type": "code",
   "execution_count": null,
   "id": "6a0f23f5",
   "metadata": {},
   "outputs": [],
   "source": []
  }
 ],
 "metadata": {
  "kernelspec": {
   "display_name": "Python 3 (ipykernel)",
   "language": "python",
   "name": "python3"
  },
  "language_info": {
   "codemirror_mode": {
    "name": "ipython",
    "version": 3
   },
   "file_extension": ".py",
   "mimetype": "text/x-python",
   "name": "python",
   "nbconvert_exporter": "python",
   "pygments_lexer": "ipython3",
   "version": "3.10.7"
  }
 },
 "nbformat": 4,
 "nbformat_minor": 5
}
